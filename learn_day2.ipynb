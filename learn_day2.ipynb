{
 "cells": [
  {
   "cell_type": "code",
   "execution_count": 10,
   "id": "3fcbbe01",
   "metadata": {},
   "outputs": [
    {
     "name": "stdout",
     "output_type": "stream",
     "text": [
      "bilangan ganjil\n"
     ]
    }
   ],
   "source": [
    "angka = 10\n",
    "if (angka%2 == 0):\n",
    "    print('bilangan ganjil')\n",
    "else:\n",
    "    print('bilangan genap')"
   ]
  },
  {
   "cell_type": "code",
   "execution_count": 11,
   "id": "f7a29bcf",
   "metadata": {},
   "outputs": [
    {
     "name": "stdout",
     "output_type": "stream",
     "text": [
      "Outer condition is true\n",
      "Between inner conditions\n",
      "Inner condition 2\n",
      "End of outer condition\n",
      "After outer condition\n"
     ]
    }
   ],
   "source": [
    "# Does line execute?                        Yes    No\n",
    "#                                           ---    --\n",
    "if 'foo' in ['foo', 'bar', 'baz']:        #  x\n",
    "    print('Outer condition is true')      #  x\n",
    "\n",
    "    if 10 > 20:                           #  x\n",
    "        print('Inner condition 1')        #        x\n",
    "\n",
    "    print('Between inner conditions')     #  x\n",
    "\n",
    "    if 10 < 20:                           #  x\n",
    "        print('Inner condition 2')        #  x\n",
    "\n",
    "    print('End of outer condition')       #  x\n",
    "print('After outer condition')"
   ]
  },
  {
   "cell_type": "code",
   "execution_count": 13,
   "id": "0a1378f2",
   "metadata": {},
   "outputs": [
    {
     "name": "stdout",
     "output_type": "stream",
     "text": [
      "beli majalah\n"
     ]
    }
   ],
   "source": [
    "hargaBuku = 20000\n",
    "hargaMajalah = 5000\n",
    "uang = 20000\n",
    "\n",
    "if uang > hargaBuku:\n",
    "    print(\"beli buku\")\n",
    "elif uang > hargaMajalah:\n",
    "    print(\"beli majalah\")\n",
    "else:\n",
    "    print(\"uang tidak cukup\")"
   ]
  },
  {
   "cell_type": "code",
   "execution_count": 15,
   "id": "c029b9f4",
   "metadata": {},
   "outputs": [
    {
     "name": "stdout",
     "output_type": "stream",
     "text": [
      "String: hello\n",
      "Float: 10.00\n",
      "Integer: 20\n"
     ]
    }
   ],
   "source": [
    "mystring = 'hello'\n",
    "myfloat = 10.0\n",
    "myint = 20\n",
    "\n",
    "if mystring == 'hello':\n",
    "    print(\"String: %s\" %mystring)\n",
    "if isinstance(myfloat,float) and myfloat == 10.0:\n",
    "    print('Float: %.2f' %myfloat)\n",
    "if isinstance(myint, int) and myint == 20:\n",
    "    print('Integer: %d' %myint)"
   ]
  },
  {
   "cell_type": "code",
   "execution_count": 24,
   "id": "f6edfcbf",
   "metadata": {},
   "outputs": [
    {
     "name": "stdout",
     "output_type": "stream",
     "text": [
      "looping ke:  0\n",
      "looping ke:  1\n",
      "looping ke:  2\n",
      "looping ke:  3\n",
      "looping ke:  4\n",
      "looping ke:  5\n",
      "looping ke:  6\n",
      "looping ke:  7\n",
      "looping ke:  8\n",
      "looping ke:  9\n",
      "looping ke:  10\n"
     ]
    }
   ],
   "source": [
    "i=0\n",
    "while i <= 10:\n",
    "    print('looping ke: ',i)\n",
    "    i += 1"
   ]
  },
  {
   "cell_type": "code",
   "execution_count": 25,
   "id": "0f6f13c2",
   "metadata": {},
   "outputs": [
    {
     "name": "stdout",
     "output_type": "stream",
     "text": [
      "looping ke:  0\n",
      "looping ke:  2\n",
      "looping ke:  4\n",
      "looping ke:  6\n",
      "looping ke:  8\n",
      "looping ke:  10\n"
     ]
    }
   ],
   "source": [
    "i=0\n",
    "while i <= 10:\n",
    "    print('looping ke: ',i)\n",
    "    i += 2"
   ]
  },
  {
   "cell_type": "code",
   "execution_count": 50,
   "id": "8993041f",
   "metadata": {},
   "outputs": [
    {
     "name": "stdout",
     "output_type": "stream",
     "text": [
      "1\n",
      "3\n",
      "5\n",
      "7\n",
      "9\n",
      "11\n",
      "13\n",
      "15\n",
      "17\n",
      "19\n"
     ]
    }
   ],
   "source": [
    "for x in range (1,20,2):\n",
    "  print(x)"
   ]
  },
  {
   "cell_type": "code",
   "execution_count": 132,
   "id": "2d9d9d24",
   "metadata": {},
   "outputs": [
    {
     "name": "stdout",
     "output_type": "stream",
     "text": [
      "402\n",
      "984\n",
      "360\n",
      "408\n",
      "980\n",
      "544\n",
      "390\n",
      "984\n",
      "592\n",
      "236\n",
      "942\n",
      "386\n",
      "462\n",
      "418\n",
      "344\n",
      "236\n",
      "566\n",
      "978\n",
      "328\n",
      "162\n",
      "758\n",
      "918\n",
      "done\n"
     ]
    }
   ],
   "source": [
    "numbers = [951, 402, 984, 651, 360, 69, 408, 319, 601, 485, 980, 507, 725, 547, 544, 615, 83, 165, 141, 501, 263, 617, 865, 575, 219, 390, 984, 592, 236, 105, 942, 941, 386, 462, 47, 418, 907, 344, 236, 375, 823, 566, 597, 978, 328, 615, 953, 345, 399, 162, 758, 219, 918, 237, 412, 566, 826, 248, 866, 950, 626, 949\n",
    "  ]\n",
    "\n",
    "#Loop dan print semua angka genap dari list angka diatas dengan urutan yang sama. Jangan mencetak angka apa pun yang muncul setelah angka 918.\n",
    "#Tampilkan pesan 'Done' setelah looping berakhir.\n",
    "for a in numbers:\n",
    "    if a % 2 == 0:\n",
    "        print(a)\n",
    "        if a == 918:\n",
    "            break\n",
    "print('done')\n",
    "   "
   ]
  },
  {
   "cell_type": "code",
   "execution_count": 37,
   "id": "a114d09d",
   "metadata": {},
   "outputs": [
    {
     "name": "stdout",
     "output_type": "stream",
     "text": [
      "a sma dengan b\n"
     ]
    }
   ],
   "source": [
    "a=300\n",
    "b=300\n",
    "print('A') if a > b  else print('a sma dengan b') if a==b else print('B')"
   ]
  },
  {
   "cell_type": "code",
   "execution_count": 45,
   "id": "a4c9686f",
   "metadata": {},
   "outputs": [
    {
     "ename": "SyntaxError",
     "evalue": "invalid syntax (<ipython-input-45-6c809690f1eb>, line 3)",
     "output_type": "error",
     "traceback": [
      "\u001b[1;36m  File \u001b[1;32m\"<ipython-input-45-6c809690f1eb>\"\u001b[1;36m, line \u001b[1;32m3\u001b[0m\n\u001b[1;33m    if a > b\u001b[0m\n\u001b[1;37m            ^\u001b[0m\n\u001b[1;31mSyntaxError\u001b[0m\u001b[1;31m:\u001b[0m invalid syntax\n"
     ]
    }
   ],
   "source": [
    "a=300\n",
    "b=300\n",
    "if a > b\n",
    " print('A') \n",
    "    elif a == b:\n",
    "    print('a sma dengan b')\n",
    "    elif a < b:\n",
    "    else print('B')"
   ]
  },
  {
   "cell_type": "code",
   "execution_count": 52,
   "id": "6b45a1f9",
   "metadata": {},
   "outputs": [
    {
     "name": "stdout",
     "output_type": "stream",
     "text": [
      "1\n",
      "2\n",
      "4\n",
      "5\n",
      "6\n"
     ]
    }
   ],
   "source": [
    "i = 0\n",
    "while i < 6:\n",
    "    i += 1\n",
    "    if i == 3:\n",
    "        continue\n",
    "    print(i)"
   ]
  },
  {
   "cell_type": "code",
   "execution_count": 53,
   "id": "07c651a6",
   "metadata": {},
   "outputs": [
    {
     "name": "stdout",
     "output_type": "stream",
     "text": [
      "1\n",
      "2\n"
     ]
    }
   ],
   "source": [
    "i = 0\n",
    "while i < 6:\n",
    "    i += 1\n",
    "    if i == 3:\n",
    "        break\n",
    "    print(i)"
   ]
  },
  {
   "cell_type": "code",
   "execution_count": 61,
   "id": "6b8894b4",
   "metadata": {},
   "outputs": [
    {
     "name": "stdout",
     "output_type": "stream",
     "text": [
      "apel\n",
      "pisang\n"
     ]
    }
   ],
   "source": [
    "fruits=['apel','pisang','anggur']\n",
    "for x in fruits:\n",
    "    if x == 'anggur':\n",
    "        break\n",
    "    print(x)"
   ]
  },
  {
   "cell_type": "code",
   "execution_count": 78,
   "id": "166838d2",
   "metadata": {},
   "outputs": [
    {
     "ename": "SyntaxError",
     "evalue": "invalid syntax (<ipython-input-78-569a0c5896ae>, line 4)",
     "output_type": "error",
     "traceback": [
      "\u001b[1;36m  File \u001b[1;32m\"<ipython-input-78-569a0c5896ae>\"\u001b[1;36m, line \u001b[1;32m4\u001b[0m\n\u001b[1;33m    for i, val in enumerate(list)\u001b[0m\n\u001b[1;37m                                 ^\u001b[0m\n\u001b[1;31mSyntaxError\u001b[0m\u001b[1;31m:\u001b[0m invalid syntax\n"
     ]
    }
   ],
   "source": [
    "list = [1,3,5,7,9]\n",
    "length=len(list)\n",
    "i=0\n",
    "for i, val in enumerate(list)\n",
    "  print(i,\",\",val)"
   ]
  },
  {
   "cell_type": "code",
   "execution_count": 74,
   "id": "878907bf",
   "metadata": {},
   "outputs": [
    {
     "ename": "SyntaxError",
     "evalue": "invalid syntax (<ipython-input-74-a67a93d18ba9>, line 1)",
     "output_type": "error",
     "traceback": [
      "\u001b[1;36m  File \u001b[1;32m\"<ipython-input-74-a67a93d18ba9>\"\u001b[1;36m, line \u001b[1;32m1\u001b[0m\n\u001b[1;33m    for i, val in enumerate(list)\u001b[0m\n\u001b[1;37m                                 ^\u001b[0m\n\u001b[1;31mSyntaxError\u001b[0m\u001b[1;31m:\u001b[0m invalid syntax\n"
     ]
    }
   ],
   "source": [
    "for i, val in enumerate(list)\n",
    " print(i,\",\",val)"
   ]
  },
  {
   "cell_type": "code",
   "execution_count": 79,
   "id": "7ac53d13",
   "metadata": {},
   "outputs": [
    {
     "name": "stdout",
     "output_type": "stream",
     "text": [
      "1\n",
      "3\n",
      "10\n",
      "7\n",
      "9\n"
     ]
    },
    {
     "data": {
      "text/plain": [
       "[None, None, None, None, None]"
      ]
     },
     "execution_count": 79,
     "metadata": {},
     "output_type": "execute_result"
    }
   ],
   "source": [
    "list= [1,3,10,7,9]\n",
    "[print(i) for i in list]"
   ]
  },
  {
   "cell_type": "code",
   "execution_count": 80,
   "id": "69dc9486",
   "metadata": {},
   "outputs": [
    {
     "name": "stdout",
     "output_type": "stream",
     "text": [
      "6\n",
      "New list after pop:  [1, 2, 3, 4, 5] \n",
      "\n",
      "5\n",
      "4\n",
      "3\n",
      "2\n",
      "1\n",
      "nilai setelah di while loop dengan pop: \n",
      " []\n"
     ]
    }
   ],
   "source": [
    "list1=[1,2,3,4,5,6]\n",
    "print(list1.pop())\n",
    "print(\"New list after pop: \",list1,\"\\n\")\n",
    "while list1:\n",
    "   print(list1.pop(-1))\n",
    "print(\"nilai setelah di while loop dengan pop: \\n\",list1)"
   ]
  },
  {
   "cell_type": "code",
   "execution_count": 84,
   "id": "9c05f912",
   "metadata": {},
   "outputs": [
    {
     "name": "stdout",
     "output_type": "stream",
     "text": [
      "luas segitiga: 12\n"
     ]
    }
   ],
   "source": [
    "def luas_segitiga(alas,tinggi):\n",
    "   luas = (alas*tinggi)/2\n",
    "   print(\"luas segitiga: %d\"%luas);\n",
    "luas_segitiga(4,6)"
   ]
  },
  {
   "cell_type": "code",
   "execution_count": 87,
   "id": "a7e0000d",
   "metadata": {},
   "outputs": [
    {
     "name": "stdout",
     "output_type": "stream",
     "text": [
      "temas saya adalah: linus\n"
     ]
    }
   ],
   "source": [
    "def my_fungsi(*nama):\n",
    " print('temas saya adalah: ' +nama[2])\n",
    "my_fungsi('emil','tobi','linus')"
   ]
  },
  {
   "cell_type": "code",
   "execution_count": 88,
   "id": "59859fea",
   "metadata": {},
   "outputs": [
    {
     "name": "stdout",
     "output_type": "stream",
     "text": [
      "temas saya adalah: tobias\n"
     ]
    }
   ],
   "source": [
    "def my_fungsi(**nama):\n",
    " print('temas saya adalah: ' +nama['nama1'])\n",
    "my_fungsi(nama1='tobias',nama2='emil')"
   ]
  },
  {
   "cell_type": "code",
   "execution_count": 92,
   "id": "e90eaf1c",
   "metadata": {},
   "outputs": [
    {
     "name": "stdout",
     "output_type": "stream",
     "text": [
      "Values inside the function:  [10, 20, 30, 1, 2, 3, 4]\n",
      "Values outside the function:  [10, 20, 30, 1, 2, 3, 4]\n"
     ]
    }
   ],
   "source": [
    "# Function definition is here\n",
    "def changeme( mylist ):\n",
    "   \"This changes a passed list into this function\"\n",
    "   mylist.extend([1,2,3,4]);\n",
    "   print(\"Values inside the function: \", mylist)\n",
    "   return\n",
    "\n",
    "# Now you can call changeme function\n",
    "mylist = [10,20,30];\n",
    "changeme( mylist );\n",
    "print(\"Values outside the function: \", mylist)"
   ]
  },
  {
   "cell_type": "code",
   "execution_count": 94,
   "id": "8f82a2e7",
   "metadata": {},
   "outputs": [
    {
     "name": "stdout",
     "output_type": "stream",
     "text": [
      "Values inside the function:  [1, 2, 3, 4]\n",
      "Values outside the function:  [10, 20, 30]\n"
     ]
    }
   ],
   "source": [
    "# Function definition is here\n",
    "def changeme( mylist ):\n",
    "   \"This changes a passed list into this function\"\n",
    "   mylist=  [1,2,3,4];\n",
    "   print(\"Values inside the function: \", mylist)\n",
    "   return\n",
    "\n",
    "# Now you can call changeme function\n",
    "mylist = [10,20,30];\n",
    "changeme( mylist );\n",
    "print(\"Values outside the function: \", mylist)"
   ]
  },
  {
   "cell_type": "code",
   "execution_count": 95,
   "id": "c1c2faa4",
   "metadata": {},
   "outputs": [
    {
     "name": "stdout",
     "output_type": "stream",
     "text": [
      "89.6\n"
     ]
    }
   ],
   "source": [
    "def convert(fahr):\n",
    " cels=fahr*1.8 + 32.0\n",
    " return cels\n",
    "print(convert(32))"
   ]
  },
  {
   "cell_type": "code",
   "execution_count": 98,
   "id": "b313fd27",
   "metadata": {},
   "outputs": [
    {
     "name": "stdout",
     "output_type": "stream",
     "text": [
      "temp in kelvin = (-253, 15)\n"
     ]
    }
   ],
   "source": [
    "def convert(fahr,kelv):\n",
    " cels=fahr*1.8 + 32.0\n",
    " cels2=kelv -273,15\n",
    " return cels2\n",
    "print('temp in kelvin =' ,convert(32,20))"
   ]
  },
  {
   "cell_type": "code",
   "execution_count": 103,
   "id": "2139a8ed",
   "metadata": {},
   "outputs": [
    {
     "name": "stdout",
     "output_type": "stream",
     "text": [
      "temp in kelvin = (-253.14999999999998, 89.6)\n"
     ]
    }
   ],
   "source": [
    "def convert(fahr,kelv):\n",
    " cels=fahr*1.8 + 32.0\n",
    " cels2=kelv -273.15\n",
    " return cels2,cels\n",
    "print('temp in kelvin =' ,convert(32,20))"
   ]
  },
  {
   "cell_type": "code",
   "execution_count": 102,
   "id": "b6a5777a",
   "metadata": {},
   "outputs": [
    {
     "name": "stdout",
     "output_type": "stream",
     "text": [
      "22.22222222222222\n"
     ]
    }
   ],
   "source": [
    "def fahr_to_celsius(temp):\n",
    " return(temp-32)*(5/9)\n",
    "print(fahr_to_celsius(72))"
   ]
  },
  {
   "cell_type": "code",
   "execution_count": 104,
   "id": "b0ffa0c3",
   "metadata": {},
   "outputs": [
    {
     "name": "stdout",
     "output_type": "stream",
     "text": [
      "[72, 295.3722222222222, 22.22222222222222]\n"
     ]
    }
   ],
   "source": [
    "def temp_converter(ftemp):\n",
    " ctemp=(ftemp-32)* (5/9)\n",
    " ktemp=ctemp +273.15\n",
    " return[ftemp,ktemp,ctemp]\n",
    "print(temp_converter(72))"
   ]
  },
  {
   "cell_type": "code",
   "execution_count": 108,
   "id": "3522bcf0",
   "metadata": {},
   "outputs": [
    {
     "name": "stdout",
     "output_type": "stream",
     "text": [
      "dcba4321\n"
     ]
    }
   ],
   "source": [
    "def string_reverse(str1):\n",
    " rstr1 =''\n",
    " index = len(str1)\n",
    " while index > 0:\n",
    "  rstr1 += str1[index-1]\n",
    "  index = index - 1\n",
    " return rstr1\n",
    "print(string_reverse('1234abcd'))"
   ]
  },
  {
   "cell_type": "code",
   "execution_count": 106,
   "id": "7e54e385",
   "metadata": {},
   "outputs": [
    {
     "name": "stdout",
     "output_type": "stream",
     "text": [
      "20\n"
     ]
    }
   ],
   "source": [
    "def sum(numbers):\n",
    " total=0\n",
    " for x in numbers:\n",
    "  total += x\n",
    " return total\n",
    "print(sum((8,2,3,0,7)))"
   ]
  },
  {
   "cell_type": "code",
   "execution_count": 111,
   "id": "58eeb075",
   "metadata": {},
   "outputs": [
    {
     "name": "stdout",
     "output_type": "stream",
     "text": [
      "20\n"
     ]
    }
   ],
   "source": [
    "def sum(*numbers):\n",
    " total=0\n",
    " for x in numbers:\n",
    "  total += x\n",
    " return total\n",
    "print(sum(8,2,3,0,7))"
   ]
  },
  {
   "cell_type": "code",
   "execution_count": 110,
   "id": "a7a1f0c7",
   "metadata": {},
   "outputs": [
    {
     "name": "stdout",
     "output_type": "stream",
     "text": [
      "The number is outside the given range\n"
     ]
    }
   ],
   "source": [
    "def test_range(n):\n",
    " if n in range(3,9):\n",
    "  print('%s is in the range' %str(n))\n",
    " else:\n",
    "  print('The number is outside the given range')\n",
    "test_range(15)"
   ]
  },
  {
   "cell_type": "code",
   "execution_count": 126,
   "id": "2c232653",
   "metadata": {},
   "outputs": [
    {
     "name": "stdout",
     "output_type": "stream",
     "text": [
      "[1]\n",
      "[1, 4]\n",
      "[1, 4, 9]\n",
      "[1, 4, 9, 16]\n",
      "[1, 4, 9, 16, 25]\n",
      "[1, 4, 9, 16, 25, 36]\n",
      "[1, 4, 9, 16, 25, 36, 49]\n",
      "[1, 4, 9, 16, 25, 36, 49, 64]\n",
      "[1, 4, 9, 16, 25, 36, 49, 64, 81]\n",
      "[1, 4, 9, 16, 25, 36, 49, 64, 81, 100]\n",
      "[1, 4, 9, 16, 25, 36, 49, 64, 81, 100, 121]\n",
      "[1, 4, 9, 16, 25, 36, 49, 64, 81, 100, 121, 144]\n",
      "[1, 4, 9, 16, 25, 36, 49, 64, 81, 100, 121, 144, 169]\n",
      "[1, 4, 9, 16, 25, 36, 49, 64, 81, 100, 121, 144, 169, 196]\n",
      "[1, 4, 9, 16, 25, 36, 49, 64, 81, 100, 121, 144, 169, 196, 225]\n",
      "[1, 4, 9, 16, 25, 36, 49, 64, 81, 100, 121, 144, 169, 196, 225, 256]\n",
      "[1, 4, 9, 16, 25, 36, 49, 64, 81, 100, 121, 144, 169, 196, 225, 256, 289]\n",
      "[1, 4, 9, 16, 25, 36, 49, 64, 81, 100, 121, 144, 169, 196, 225, 256, 289, 324]\n",
      "[1, 4, 9, 16, 25, 36, 49, 64, 81, 100, 121, 144, 169, 196, 225, 256, 289, 324, 361]\n",
      "[1, 4, 9, 16, 25, 36, 49, 64, 81, 100, 121, 144, 169, 196, 225, 256, 289, 324, 361, 400]\n"
     ]
    }
   ],
   "source": [
    "def printValues():\n",
    " l = []\n",
    " for i in range(1,21):\n",
    "    l.append(i**2)\n",
    "    print(l)\n",
    "\n",
    "printValues()"
   ]
  },
  {
   "cell_type": "code",
   "execution_count": 127,
   "id": "2a173329",
   "metadata": {},
   "outputs": [
    {
     "name": "stdout",
     "output_type": "stream",
     "text": [
      "Masukkan angka awal: 100\n",
      "[1, 3, 5, 7, 9, 11, 13, 15, 17, 19, 21, 23, 25, 27, 29, 31, 33, 35, 37, 39, 41, 43, 45, 47, 49, 51, 53, 55, 57, 59, 61, 63, 65, 67, 69, 71, 73, 75, 77, 79, 81, 83, 85, 87, 89, 91, 93, 95, 97, 99]\n"
     ]
    }
   ],
   "source": [
    "angka_ganjil = int(input('Masukkan angka awal: '))\n",
    "\n",
    "list_bil= [i for i in range (1,100) if i%2 == 1]\n",
    "print(list_bil)"
   ]
  },
  {
   "cell_type": "code",
   "execution_count": 128,
   "id": "6257ee61",
   "metadata": {},
   "outputs": [
    {
     "name": "stdout",
     "output_type": "stream",
     "text": [
      "Masukkan angka awal: 20\n"
     ]
    },
    {
     "data": {
      "text/plain": [
       "50"
      ]
     },
     "execution_count": 128,
     "metadata": {},
     "output_type": "execute_result"
    }
   ],
   "source": [
    "angka_kuadrat = int(input('Masukkan angka awal: '))\n",
    "list_bil= [i**2 for i in range (1,100) if i%2 == 1]\n",
    "len(list_bil)"
   ]
  },
  {
   "cell_type": "code",
   "execution_count": null,
   "id": "32a4ab2b",
   "metadata": {},
   "outputs": [],
   "source": []
  }
 ],
 "metadata": {
  "kernelspec": {
   "display_name": "Python 3",
   "language": "python",
   "name": "python3"
  },
  "language_info": {
   "codemirror_mode": {
    "name": "ipython",
    "version": 3
   },
   "file_extension": ".py",
   "mimetype": "text/x-python",
   "name": "python",
   "nbconvert_exporter": "python",
   "pygments_lexer": "ipython3",
   "version": "3.8.8"
  }
 },
 "nbformat": 4,
 "nbformat_minor": 5
}
