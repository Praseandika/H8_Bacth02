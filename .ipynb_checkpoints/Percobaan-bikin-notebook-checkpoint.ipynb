{
 "cells": [
  {
   "cell_type": "code",
   "execution_count": 3,
   "id": "0e133bc0",
   "metadata": {},
   "outputs": [
    {
     "name": "stdout",
     "output_type": "stream",
     "text": [
      "12\n"
     ]
    }
   ],
   "source": [
    "print (12)"
   ]
  },
  {
   "cell_type": "code",
   "execution_count": 4,
   "id": "3b3e35c9",
   "metadata": {},
   "outputs": [
    {
     "name": "stdout",
     "output_type": "stream",
     "text": [
      "{'model': 'mustang', 'year': 2020}\n"
     ]
    }
   ],
   "source": [
    "thisdict= {\n",
    "    'brand':'ford',\n",
    "    'model':'mustang',\n",
    "    'year': 2020\n",
    "}\n",
    "thisdict.pop('brand')\n",
    "print(thisdict)"
   ]
  },
  {
   "cell_type": "code",
   "execution_count": 5,
   "id": "9feb5ce1",
   "metadata": {},
   "outputs": [
    {
     "name": "stdout",
     "output_type": "stream",
     "text": [
      "['baz']\n"
     ]
    }
   ],
   "source": [
    "thislist = ['foo','bar','baz','qux']\n",
    "print(thislist[2:3])"
   ]
  },
  {
   "cell_type": "code",
   "execution_count": 6,
   "id": "d5fd5ebe",
   "metadata": {},
   "outputs": [
    {
     "name": "stdout",
     "output_type": "stream",
     "text": [
      "['foo', 'bar', 'baz', 'qux', 'nex']\n"
     ]
    }
   ],
   "source": [
    "thislist = ['foo','bar','baz','qux','nex']\n",
    "\n",
    "print(thislist)"
   ]
  },
  {
   "cell_type": "code",
   "execution_count": 7,
   "id": "8f3e3c82",
   "metadata": {},
   "outputs": [
    {
     "name": "stdout",
     "output_type": "stream",
     "text": [
      "1\n",
      "12\n",
      "1 3\n",
      "1  4\n",
      "12345\n"
     ]
    }
   ],
   "source": [
    "print('1')\n",
    "print('12')\n",
    "print('1 3')\n",
    "print('1  4')\n",
    "print(12345)"
   ]
  },
  {
   "cell_type": "code",
   "execution_count": 23,
   "id": "8545b068",
   "metadata": {},
   "outputs": [
    {
     "name": "stdout",
     "output_type": "stream",
     "text": [
      "1\n",
      "1 2\n",
      "1  3\n",
      "12345\n"
     ]
    }
   ],
   "source": [
    "a=('1')\n",
    "b=('1 2')\n",
    "c=('1  3')\n",
    "d=('12345')\n",
    "print(a,b,c,d,sep='\\n')"
   ]
  },
  {
   "cell_type": "code",
   "execution_count": 25,
   "id": "e9fa969c",
   "metadata": {},
   "outputs": [
    {
     "name": "stdout",
     "output_type": "stream",
     "text": [
      "ASDASDASDASDASDASDASDASDASDASDASDASDASDASDASD\n"
     ]
    }
   ],
   "source": [
    "x='ASD'\n",
    "N=15\n",
    "print(x*N)"
   ]
  },
  {
   "cell_type": "code",
   "execution_count": 31,
   "id": "4ff555a7",
   "metadata": {},
   "outputs": [
    {
     "name": "stdout",
     "output_type": "stream",
     "text": [
      "FGA BIG DATA 2021\n"
     ]
    }
   ],
   "source": [
    "print(\"FGA\",end=' ')\n",
    "print(\"BIG DATA\",end=' ')\n",
    "print(\"2021\")"
   ]
  },
  {
   "cell_type": "code",
   "execution_count": 35,
   "id": "20f9674d",
   "metadata": {},
   "outputs": [
    {
     "name": "stdout",
     "output_type": "stream",
     "text": [
      "Total semuanya 57250\n"
     ]
    }
   ],
   "source": [
    "hg1=100\n",
    "hg2=200\n",
    "hg3=360\n",
    "hg4=400\n",
    "hg5=509\n",
    "#harga\n",
    "b1=10\n",
    "b2=20\n",
    "b3=30\n",
    "b4=40\n",
    "b5=50\n",
    "#jumlahBarang\n",
    "total=(b1*hg1)+(b2*hg2)+(b3*hg3)+(b4*hg4)+(b5*hg5)\n",
    "print('Total semuanya',+total)"
   ]
  },
  {
   "cell_type": "code",
   "execution_count": null,
   "id": "1928ab8e",
   "metadata": {},
   "outputs": [],
   "source": []
  }
 ],
 "metadata": {
  "kernelspec": {
   "display_name": "Python 3",
   "language": "python",
   "name": "python3"
  },
  "language_info": {
   "codemirror_mode": {
    "name": "ipython",
    "version": 3
   },
   "file_extension": ".py",
   "mimetype": "text/x-python",
   "name": "python",
   "nbconvert_exporter": "python",
   "pygments_lexer": "ipython3",
   "version": "3.9.5"
  }
 },
 "nbformat": 4,
 "nbformat_minor": 5
}
